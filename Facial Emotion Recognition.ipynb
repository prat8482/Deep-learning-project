{
 "cells": [
  {
   "cell_type": "code",
   "execution_count": 1,
   "metadata": {},
   "outputs": [],
   "source": [
    "import pandas as pd\n",
    "import numpy as np\n",
    "import matplotlib.pyplot as plt\n",
    "import seaborn as sns\n",
    "from keras.models import Sequential\n",
    "from keras.layers import Conv2D, MaxPooling2D, AveragePooling2D, Dense, Flatten, Dropout\n",
    "from keras import optimizers\n",
    "from keras.utils import to_categorical"
   ]
  },
  {
   "cell_type": "code",
   "execution_count": 4,
   "metadata": {},
   "outputs": [],
   "source": [
    "data=pd.read_csv(r'C:\\Datasets\\FER\\fer2013\\fer2013\\fer2013.csv')"
   ]
  },
  {
   "cell_type": "code",
   "execution_count": 5,
   "metadata": {},
   "outputs": [
    {
     "name": "stdout",
     "output_type": "stream",
     "text": [
      "Index(['emotion', 'pixels', 'Usage'], dtype='object')\n",
      "(35887, 3)\n"
     ]
    }
   ],
   "source": [
    "print(data.columns)\n",
    "print(data.shape)"
   ]
  },
  {
   "cell_type": "code",
   "execution_count": 6,
   "metadata": {
    "scrolled": true
   },
   "outputs": [
    {
     "data": {
      "text/html": [
       "<div>\n",
       "<style scoped>\n",
       "    .dataframe tbody tr th:only-of-type {\n",
       "        vertical-align: middle;\n",
       "    }\n",
       "\n",
       "    .dataframe tbody tr th {\n",
       "        vertical-align: top;\n",
       "    }\n",
       "\n",
       "    .dataframe thead th {\n",
       "        text-align: right;\n",
       "    }\n",
       "</style>\n",
       "<table border=\"1\" class=\"dataframe\">\n",
       "  <thead>\n",
       "    <tr style=\"text-align: right;\">\n",
       "      <th></th>\n",
       "      <th>emotion</th>\n",
       "      <th>pixels</th>\n",
       "      <th>Usage</th>\n",
       "    </tr>\n",
       "  </thead>\n",
       "  <tbody>\n",
       "    <tr>\n",
       "      <th>0</th>\n",
       "      <td>0</td>\n",
       "      <td>70 80 82 72 58 58 60 63 54 58 60 48 89 115 121...</td>\n",
       "      <td>Training</td>\n",
       "    </tr>\n",
       "    <tr>\n",
       "      <th>1</th>\n",
       "      <td>0</td>\n",
       "      <td>151 150 147 155 148 133 111 140 170 174 182 15...</td>\n",
       "      <td>Training</td>\n",
       "    </tr>\n",
       "    <tr>\n",
       "      <th>2</th>\n",
       "      <td>2</td>\n",
       "      <td>231 212 156 164 174 138 161 173 182 200 106 38...</td>\n",
       "      <td>Training</td>\n",
       "    </tr>\n",
       "    <tr>\n",
       "      <th>3</th>\n",
       "      <td>4</td>\n",
       "      <td>24 32 36 30 32 23 19 20 30 41 21 22 32 34 21 1...</td>\n",
       "      <td>Training</td>\n",
       "    </tr>\n",
       "    <tr>\n",
       "      <th>4</th>\n",
       "      <td>6</td>\n",
       "      <td>4 0 0 0 0 0 0 0 0 0 0 0 3 15 23 28 48 50 58 84...</td>\n",
       "      <td>Training</td>\n",
       "    </tr>\n",
       "  </tbody>\n",
       "</table>\n",
       "</div>"
      ],
      "text/plain": [
       "   emotion                                             pixels     Usage\n",
       "0        0  70 80 82 72 58 58 60 63 54 58 60 48 89 115 121...  Training\n",
       "1        0  151 150 147 155 148 133 111 140 170 174 182 15...  Training\n",
       "2        2  231 212 156 164 174 138 161 173 182 200 106 38...  Training\n",
       "3        4  24 32 36 30 32 23 19 20 30 41 21 22 32 34 21 1...  Training\n",
       "4        6  4 0 0 0 0 0 0 0 0 0 0 0 3 15 23 28 48 50 58 84...  Training"
      ]
     },
     "execution_count": 6,
     "metadata": {},
     "output_type": "execute_result"
    }
   ],
   "source": [
    "data.head()"
   ]
  },
  {
   "cell_type": "code",
   "execution_count": 7,
   "metadata": {},
   "outputs": [
    {
     "data": {
      "text/plain": [
       "Training       28709\n",
       "PublicTest      3589\n",
       "PrivateTest     3589\n",
       "Name: Usage, dtype: int64"
      ]
     },
     "execution_count": 7,
     "metadata": {},
     "output_type": "execute_result"
    }
   ],
   "source": [
    "data[\"Usage\"].value_counts()"
   ]
  },
  {
   "cell_type": "code",
   "execution_count": 8,
   "metadata": {},
   "outputs": [
    {
     "name": "stdout",
     "output_type": "stream",
     "text": [
      "(28709, 3)\n",
      "(3589, 3)\n",
      "(3589, 3)\n"
     ]
    }
   ],
   "source": [
    "training = data.loc[data[\"Usage\"] == \"Training\"]\n",
    "public_test = data.loc[data[\"Usage\"] == \"PublicTest\"]\n",
    "private_test = data.loc[data[\"Usage\"] == \"PrivateTest\"]\n",
    "\n",
    "print(training.shape)\n",
    "print(public_test.shape)\n",
    "print(private_test.shape)"
   ]
  },
  {
   "cell_type": "code",
   "execution_count": 9,
   "metadata": {},
   "outputs": [],
   "source": [
    "train_labels = training[\"emotion\"]\n",
    "train_labels = to_categorical(train_labels)\n",
    "\n",
    "train_pixels = training[\"pixels\"].str.split(\" \").tolist()\n",
    "train_pixels = np.uint8(train_pixels)\n",
    "train_pixels = train_pixels.reshape((28709, 48, 48, 1))\n",
    "train_pixels = train_pixels.astype(\"float32\") / 255\n",
    "\n",
    "\n",
    "private_labels = private_test[\"emotion\"]\n",
    "private_labels = to_categorical(private_labels)\n",
    "\n",
    "private_pixels = private_test[\"pixels\"].str.split(\" \").tolist()\n",
    "private_pixels = np.uint8(private_pixels)\n",
    "private_pixels = private_pixels.reshape((3589, 48, 48, 1))\n",
    "private_pixels = private_pixels.astype(\"float32\") / 255\n",
    "\n",
    "\n",
    "public_labels = public_test[\"emotion\"]\n",
    "public_labels = to_categorical(public_labels)\n",
    "\n",
    "public_pixels = public_test[\"pixels\"].str.split(\" \").tolist()\n",
    "public_pixels = np.uint8(public_pixels)\n",
    "public_pixels = public_pixels.reshape((3589, 48, 48, 1))\n",
    "public_pixels = public_pixels.astype(\"float32\") / 255"
   ]
  },
  {
   "cell_type": "code",
   "execution_count": 10,
   "metadata": {},
   "outputs": [],
   "source": [
    "model =Sequential()\n",
    "\n",
    "model.add(Conv2D(64, (5, 5), activation='relu', input_shape=(48,48,1)))\n",
    "model.add(MaxPooling2D(pool_size=(5,5), strides=(2, 2)))\n",
    "\n",
    "model.add(Conv2D(64, (3, 3), activation='relu'))\n",
    "model.add(Conv2D(64, (3, 3), activation='relu'))\n",
    "model.add(AveragePooling2D(pool_size=(3,3), strides=(2, 2)))\n",
    "\n",
    "model.add(Conv2D(128, (3, 3), activation='relu'))\n",
    "model.add(Conv2D(128, (3, 3), activation='relu'))\n",
    "model.add(AveragePooling2D(pool_size=(3,3), strides=(2, 2)))\n",
    "\n",
    "model.add(Flatten())\n",
    "\n",
    "model.add(Dense(1024, activation='relu'))\n",
    "model.add(Dropout(0.2))\n",
    "model.add(Dense(1024, activation='relu'))\n",
    "model.add(Dropout(0.2))\n",
    "\n",
    "model.add(Dense(7, activation='softmax'))"
   ]
  },
  {
   "cell_type": "code",
   "execution_count": 11,
   "metadata": {
    "collapsed": true
   },
   "outputs": [
    {
     "name": "stdout",
     "output_type": "stream",
     "text": [
      "Model: \"sequential\"\n",
      "_________________________________________________________________\n",
      "Layer (type)                 Output Shape              Param #   \n",
      "=================================================================\n",
      "conv2d (Conv2D)              (None, 44, 44, 64)        1664      \n",
      "_________________________________________________________________\n",
      "max_pooling2d (MaxPooling2D) (None, 20, 20, 64)        0         \n",
      "_________________________________________________________________\n",
      "conv2d_1 (Conv2D)            (None, 18, 18, 64)        36928     \n",
      "_________________________________________________________________\n",
      "conv2d_2 (Conv2D)            (None, 16, 16, 64)        36928     \n",
      "_________________________________________________________________\n",
      "average_pooling2d (AveragePo (None, 7, 7, 64)          0         \n",
      "_________________________________________________________________\n",
      "conv2d_3 (Conv2D)            (None, 5, 5, 128)         73856     \n",
      "_________________________________________________________________\n",
      "conv2d_4 (Conv2D)            (None, 3, 3, 128)         147584    \n",
      "_________________________________________________________________\n",
      "average_pooling2d_1 (Average (None, 1, 1, 128)         0         \n",
      "_________________________________________________________________\n",
      "flatten (Flatten)            (None, 128)               0         \n",
      "_________________________________________________________________\n",
      "dense (Dense)                (None, 1024)              132096    \n",
      "_________________________________________________________________\n",
      "dropout (Dropout)            (None, 1024)              0         \n",
      "_________________________________________________________________\n",
      "dense_1 (Dense)              (None, 1024)              1049600   \n",
      "_________________________________________________________________\n",
      "dropout_1 (Dropout)          (None, 1024)              0         \n",
      "_________________________________________________________________\n",
      "dense_2 (Dense)              (None, 7)                 7175      \n",
      "=================================================================\n",
      "Total params: 1,485,831\n",
      "Trainable params: 1,485,831\n",
      "Non-trainable params: 0\n",
      "_________________________________________________________________\n"
     ]
    }
   ],
   "source": [
    "model.summary()"
   ]
  },
  {
   "cell_type": "code",
   "execution_count": 12,
   "metadata": {
    "scrolled": true
   },
   "outputs": [
    {
     "name": "stdout",
     "output_type": "stream",
     "text": [
      "Epoch 1/30\n",
      "113/113 [==============================] - 108s 957ms/step - loss: 1.8189 - accuracy: 0.2496 - val_loss: 1.8102 - val_accuracy: 0.2449\n",
      "Epoch 2/30\n",
      "113/113 [==============================] - 103s 909ms/step - loss: 1.8021 - accuracy: 0.2534 - val_loss: 1.7675 - val_accuracy: 0.2736\n",
      "Epoch 3/30\n",
      "113/113 [==============================] - 99s 880ms/step - loss: 1.7035 - accuracy: 0.3046 - val_loss: 1.6382 - val_accuracy: 0.3424\n",
      "Epoch 4/30\n",
      "113/113 [==============================] - 112s 990ms/step - loss: 1.5943 - accuracy: 0.3659 - val_loss: 1.5785 - val_accuracy: 0.3812\n",
      "Epoch 5/30\n",
      "113/113 [==============================] - 120s 1s/step - loss: 1.5157 - accuracy: 0.4072 - val_loss: 1.4819 - val_accuracy: 0.4257\n",
      "Epoch 6/30\n",
      "113/113 [==============================] - 113s 1s/step - loss: 1.4426 - accuracy: 0.4436 - val_loss: 1.4812 - val_accuracy: 0.4285\n",
      "Epoch 7/30\n",
      "113/113 [==============================] - 104s 923ms/step - loss: 1.3868 - accuracy: 0.4664 - val_loss: 1.3675 - val_accuracy: 0.4734\n",
      "Epoch 8/30\n",
      "113/113 [==============================] - 103s 910ms/step - loss: 1.3263 - accuracy: 0.4938 - val_loss: 1.3369 - val_accuracy: 0.4854\n",
      "Epoch 9/30\n",
      "113/113 [==============================] - 104s 916ms/step - loss: 1.2832 - accuracy: 0.5092 - val_loss: 1.2754 - val_accuracy: 0.5079\n",
      "Epoch 10/30\n",
      "113/113 [==============================] - 107s 947ms/step - loss: 1.2407 - accuracy: 0.5314 - val_loss: 1.2970 - val_accuracy: 0.5007\n",
      "Epoch 11/30\n",
      "113/113 [==============================] - 116s 1s/step - loss: 1.2178 - accuracy: 0.5385 - val_loss: 1.3179 - val_accuracy: 0.4971\n",
      "Epoch 12/30\n",
      "113/113 [==============================] - 110s 977ms/step - loss: 1.1811 - accuracy: 0.5523 - val_loss: 1.2489 - val_accuracy: 0.5188\n",
      "Epoch 13/30\n",
      "113/113 [==============================] - 102s 904ms/step - loss: 1.1456 - accuracy: 0.5655 - val_loss: 1.2352 - val_accuracy: 0.5269\n",
      "Epoch 14/30\n",
      "113/113 [==============================] - 93s 821ms/step - loss: 1.1186 - accuracy: 0.5787 - val_loss: 1.2662 - val_accuracy: 0.5174\n",
      "Epoch 15/30\n",
      "113/113 [==============================] - 103s 916ms/step - loss: 1.0932 - accuracy: 0.5869 - val_loss: 1.1939 - val_accuracy: 0.5430\n",
      "Epoch 16/30\n",
      "113/113 [==============================] - 94s 835ms/step - loss: 1.0747 - accuracy: 0.5960 - val_loss: 1.2082 - val_accuracy: 0.5386\n",
      "Epoch 17/30\n",
      "113/113 [==============================] - 93s 826ms/step - loss: 1.0307 - accuracy: 0.6124 - val_loss: 1.1803 - val_accuracy: 0.5545\n",
      "Epoch 18/30\n",
      "113/113 [==============================] - 94s 836ms/step - loss: 1.0135 - accuracy: 0.6209 - val_loss: 1.1668 - val_accuracy: 0.5595\n",
      "Epoch 19/30\n",
      "113/113 [==============================] - 95s 840ms/step - loss: 0.9839 - accuracy: 0.6297 - val_loss: 1.1909 - val_accuracy: 0.5550\n",
      "Epoch 20/30\n",
      "113/113 [==============================] - 97s 857ms/step - loss: 0.9490 - accuracy: 0.6474 - val_loss: 1.2040 - val_accuracy: 0.5514\n",
      "Epoch 21/30\n",
      "113/113 [==============================] - 145s 1s/step - loss: 0.9218 - accuracy: 0.6538 - val_loss: 1.1898 - val_accuracy: 0.5637\n",
      "Epoch 22/30\n",
      "113/113 [==============================] - 103s 910ms/step - loss: 0.8935 - accuracy: 0.6675 - val_loss: 1.2062 - val_accuracy: 0.5603\n",
      "Epoch 23/30\n",
      "113/113 [==============================] - 109s 966ms/step - loss: 0.8617 - accuracy: 0.6757 - val_loss: 1.2354 - val_accuracy: 0.5581\n",
      "Epoch 24/30\n",
      "113/113 [==============================] - 100s 881ms/step - loss: 0.8382 - accuracy: 0.6849 - val_loss: 1.2167 - val_accuracy: 0.5656\n",
      "Epoch 25/30\n",
      "113/113 [==============================] - 101s 891ms/step - loss: 0.8024 - accuracy: 0.6996 - val_loss: 1.2499 - val_accuracy: 0.5704\n",
      "Epoch 26/30\n",
      "113/113 [==============================] - 106s 936ms/step - loss: 0.7661 - accuracy: 0.7152 - val_loss: 1.2751 - val_accuracy: 0.5715\n",
      "Epoch 27/30\n",
      "113/113 [==============================] - 104s 920ms/step - loss: 0.7460 - accuracy: 0.7229 - val_loss: 1.2917 - val_accuracy: 0.5712\n",
      "Epoch 28/30\n",
      "113/113 [==============================] - 112s 993ms/step - loss: 0.7131 - accuracy: 0.7353 - val_loss: 1.3788 - val_accuracy: 0.5573\n",
      "Epoch 29/30\n",
      "113/113 [==============================] - 141s 1s/step - loss: 0.6884 - accuracy: 0.7444 - val_loss: 1.3501 - val_accuracy: 0.5662\n",
      "Epoch 30/30\n",
      "113/113 [==============================] - 109s 966ms/step - loss: 0.6441 - accuracy: 0.7602 - val_loss: 1.4147 - val_accuracy: 0.5536\n"
     ]
    }
   ],
   "source": [
    "model.compile(optimizer = \"Adam\", loss = \"categorical_crossentropy\", metrics = [\"accuracy\"])\n",
    "\n",
    "hist = model.fit(train_pixels, train_labels, batch_size = 256, epochs = 30,\n",
    "                validation_data = (private_pixels, private_labels))"
   ]
  },
  {
   "cell_type": "code",
   "execution_count": 8,
   "metadata": {},
   "outputs": [],
   "source": [
    "model.save('FER.h5')"
   ]
  },
  {
   "cell_type": "code",
   "execution_count": 13,
   "metadata": {},
   "outputs": [
    {
     "data": {
      "image/png": "[encoded data removed]",
      "text/plain": [
       "<Figure size 432x288 with 1 Axes>"
      ]
     },
     "metadata": {
      "needs_background": "light"
     },
     "output_type": "display_data"
    },
    {
     "data": {
      "image/png": "[encoded data removed]",
      "text/plain": [
       "<Figure size 432x288 with 1 Axes>"
      ]
     },
     "metadata": {
      "needs_background": "light"
     },
     "output_type": "display_data"
    }
   ],
   "source": [
    "acc = hist.history[\"accuracy\"]\n",
    "val_acc = hist.history[\"val_accuracy\"]\n",
    "loss = hist.history[\"loss\"]\n",
    "val_loss = hist.history[\"val_loss\"]\n",
    "\n",
    "epochs = range(1, len(acc) + 1)\n",
    "\n",
    "plt.plot(epochs, acc, \"bo\", label = \"Training success\")\n",
    "plt.plot(epochs, val_acc, \"b\", label = \"Validation Success\")\n",
    "plt.title(\"Training vs Validation Success\")\n",
    "plt.legend()\n",
    "\n",
    "plt.figure()\n",
    "\n",
    "plt.plot(epochs, loss, \"bo\", label = \"Training loss\")\n",
    "plt.plot(epochs, val_loss, \"b\", label = \"Validaition loss\")\n",
    "plt.legend()\n",
    "\n",
    "\n",
    "plt.show()"
   ]
  }
 ],
 "metadata": {
  "kernelspec": {
   "display_name": "Python 3",
   "language": "python",
   "name": "python3"
  },
  "language_info": {
   "codemirror_mode": {
    "name": "ipython",
    "version": 3
   },
   "file_extension": ".py",
   "mimetype": "text/x-python",
   "name": "python",
   "nbconvert_exporter": "python",
   "pygments_lexer": "ipython3",
   "version": "3.8.3"
  }
 },
 "nbformat": 4,
 "nbformat_minor": 4
}
